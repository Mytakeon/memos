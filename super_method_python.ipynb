{
 "cells": [
  {
   "cell_type": "markdown",
   "metadata": {},
   "source": [
    "# Multiple inheritance in Python\n",
    "\n",
    "This is a simple example to illustrate the concepts associated to Multiple inheritance in Python.\n",
    "We want to create a new class based on a the Python built-in `dict`."
   ]
  },
  {
   "cell_type": "code",
   "execution_count": 1,
   "metadata": {},
   "outputs": [],
   "source": [
    "import collections\n",
    "from pprint import pprint\n",
    "import logging\n",
    "\n",
    "logger = logging.getLogger()\n",
    "logger.setLevel(logging.INFO)\n",
    "\n",
    "class LoggingDict(dict):\n",
    "    \n",
    "    def __init__(self, **kwargs):\n",
    "        logging.info('Initializing my dict')\n",
    "        super().__init__(**kwargs)  # Could be dict.__init__(self, **kwargs)\n",
    "\n",
    "    def __setitem__(self, key, value):\n",
    "        logging.info('Setting key=%s, value=%s' % (key, value))\n",
    "        super().__setitem__(key, value)  # Could be dict.__setitem__(self, key, value)"
   ]
  },
  {
   "cell_type": "markdown",
   "metadata": {},
   "source": [
    "It is quite straightforward, you've probably seen very similar uses of `super` in `__init__` functions. \n",
    "\n",
    "Let's instantiate it and set an item:"
   ]
  },
  {
   "cell_type": "code",
   "execution_count": 2,
   "metadata": {},
   "outputs": [
    {
     "name": "stderr",
     "output_type": "stream",
     "text": [
      "INFO:root:Initializing my dict\n",
      "INFO:root:Setting key=a, value=42\n"
     ]
    }
   ],
   "source": [
    "ld = LoggingDict()\n",
    "ld['a'] = 42"
   ]
  },
  {
   "cell_type": "markdown",
   "metadata": {},
   "source": [
    "It is working as intended! But for all that we care now, we could also have used `dict.__setitem__(self, key, value)`. Admittedly the `super` syntax looks much nicer, but is it its only purpose?"
   ]
  },
  {
   "cell_type": "markdown",
   "metadata": {},
   "source": [
    "We can see a first advantage of `super()`. We are refering to the superclass `dict` by the built-in `super`, which means that if the name of the base class somehow changes, the code of `LoggingDict` remains unbroken. This is called **indirection** or **dereferencing**."
   ]
  },
  {
   "cell_type": "markdown",
   "metadata": {},
   "source": [
    "## Indirection in practice"
   ]
  },
  {
   "cell_type": "markdown",
   "metadata": {},
   "source": [
    "Let's say we want now to log and `OrderedDict`, the only thing we have to do is this:"
   ]
  },
  {
   "cell_type": "code",
   "execution_count": 3,
   "metadata": {},
   "outputs": [],
   "source": [
    "class LoggingOrderedDict(LoggingDict, collections.OrderedDict):\n",
    "    pass"
   ]
  },
  {
   "cell_type": "code",
   "execution_count": 4,
   "metadata": {},
   "outputs": [
    {
     "name": "stderr",
     "output_type": "stream",
     "text": [
      "INFO:root:Initializing my dict\n",
      "INFO:root:Setting key=b, value=23\n"
     ]
    }
   ],
   "source": [
    "lod = LoggingOrderedDict()\n",
    "lod['b'] = 23"
   ]
  },
  {
   "cell_type": "markdown",
   "metadata": {},
   "source": [
    "Note that if we call `__dict__.setiem__(self,key,value)` instead of `super().__setitem(key, value)` in our `LoggingDict`, then obvisously the ordered feature of our `LoggingOrderedDict` will be lost, as it is indeed `OrderedDidct.__setitem__` that needs to be called, not `dict__setitem__`!\n",
    "\n",
    "So the indirection is not just a matter of forward compatibility, it also just saved us the need to recreate a very similar class `LoggingOrderedDict` that would only have inherited only from `collections.OrderedDict`."
   ]
  },
  {
   "cell_type": "markdown",
   "metadata": {},
   "source": [
    "## Order matters"
   ]
  },
  {
   "cell_type": "markdown",
   "metadata": {},
   "source": [
    "Why is this working? Becaues by giving the LoggingDict in first position, we ensured that any method called from a `LoggingOrderedDict` instance will be called in the following order:"
   ]
  },
  {
   "cell_type": "code",
   "execution_count": 5,
   "metadata": {},
   "outputs": [
    {
     "data": {
      "text/plain": [
       "(__main__.LoggingOrderedDict,\n",
       " __main__.LoggingDict,\n",
       " collections.OrderedDict,\n",
       " dict,\n",
       " object)"
      ]
     },
     "execution_count": 5,
     "metadata": {},
     "output_type": "execute_result"
    }
   ],
   "source": [
    "LoggingOrderedDict.__mro__"
   ]
  },
  {
   "cell_type": "markdown",
   "metadata": {},
   "source": [
    "Indeed, if we define the `LoggingOrderedDict` in the other order:"
   ]
  },
  {
   "cell_type": "code",
   "execution_count": 6,
   "metadata": {},
   "outputs": [
    {
     "data": {
      "text/plain": [
       "(__main__.LoggingOrderedDict,\n",
       " collections.OrderedDict,\n",
       " __main__.LoggingDict,\n",
       " dict,\n",
       " object)"
      ]
     },
     "execution_count": 6,
     "metadata": {},
     "output_type": "execute_result"
    }
   ],
   "source": [
    "class LoggingOrderedDict(collections.OrderedDict, LoggingDict):\n",
    "    pass\n",
    "LoggingOrderedDict.__mro__"
   ]
  },
  {
   "cell_type": "markdown",
   "metadata": {},
   "source": [
    "We can see that the `__setitem__` method will be fetched from `OrderedDict` first, which does not have our neat logging feature:"
   ]
  },
  {
   "cell_type": "code",
   "execution_count": 7,
   "metadata": {},
   "outputs": [],
   "source": [
    "lod = LoggingOrderedDict()\n",
    "lod['b'] = 23"
   ]
  },
  {
   "cell_type": "markdown",
   "metadata": {},
   "source": [
    "Indeed, no log is printed."
   ]
  },
  {
   "cell_type": "markdown",
   "metadata": {},
   "source": [
    "## Further readings\n",
    "\n",
    " * https://rhettinger.wordpress.com/2011/05/26/super-considered-super/\n",
    " * https://stackoverflow.com/a/27134600/8597378'\n",
    " * On the actual algorithm: https://en.wikipedia.org/wiki/C3_linearization\n",
    " * On indirection or dereferencing: https://en.wikipedia.org/wiki/Indirection"
   ]
  }
 ],
 "metadata": {
  "kernelspec": {
   "display_name": "Python 3",
   "language": "python",
   "name": "python3"
  },
  "language_info": {
   "codemirror_mode": {
    "name": "ipython",
    "version": 3
   },
   "file_extension": ".py",
   "mimetype": "text/x-python",
   "name": "python",
   "nbconvert_exporter": "python",
   "pygments_lexer": "ipython3",
   "version": "3.6.5"
  }
 },
 "nbformat": 4,
 "nbformat_minor": 2
}
